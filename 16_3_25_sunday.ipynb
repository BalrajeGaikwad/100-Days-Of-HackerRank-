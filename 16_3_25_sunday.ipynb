{
  "nbformat": 4,
  "nbformat_minor": 0,
  "metadata": {
    "colab": {
      "provenance": []
    },
    "kernelspec": {
      "name": "python3",
      "display_name": "Python 3"
    },
    "language_info": {
      "name": "python"
    }
  },
  "cells": [
    {
      "cell_type": "code",
      "execution_count": 3,
      "metadata": {
        "colab": {
          "base_uri": "https://localhost:8080/"
        },
        "id": "5jSyaJFv8hHj",
        "outputId": "b7f67a38-a10a-485b-8e36-03168e235f73"
      },
      "outputs": [
        {
          "output_type": "stream",
          "name": "stdout",
          "text": [
            "1\n"
          ]
        }
      ],
      "source": [
        "def is_palindrome(s):\n",
        "  left=0\n",
        "  right=len(s)-1\n",
        "\n",
        "\n",
        "  while left < right:\n",
        "\n",
        "    if s[left]!= s[right]:\n",
        "      return 0\n",
        "\n",
        "    left+=1\n",
        "    right-=1\n",
        "\n",
        "  return 1\n",
        "\n",
        "\n",
        "s=\"abba\"\n",
        "\n",
        "print(is_palindrome(s))"
      ]
    },
    {
      "cell_type": "code",
      "source": [
        "string=\"abba\"\n",
        "\n",
        "m=string[::-1]\n",
        "\n",
        "if string== m:\n",
        "  print(\"palindrome\")\n",
        "else:\n",
        "  print(\"not palindrome\")"
      ],
      "metadata": {
        "colab": {
          "base_uri": "https://localhost:8080/"
        },
        "id": "YUWu5Muw9mwT",
        "outputId": "b4a9ba4d-6a09-430c-e032-22d466c9b393"
      },
      "execution_count": 4,
      "outputs": [
        {
          "output_type": "stream",
          "name": "stdout",
          "text": [
            "palindrome\n"
          ]
        }
      ]
    },
    {
      "cell_type": "code",
      "source": [
        "def is_palindrome(s):\n",
        "  length=len(s) #4\n",
        "\n",
        "  for i in range(length//2): #6\n",
        "    if s[i] != s[length -i -1]: # 1 != s[4-1-1] =4\n",
        "      return 0\n",
        "\n",
        "  return 1\n",
        "\n",
        "s=\"abmmba\"\n",
        "print(is_palindrome(s))"
      ],
      "metadata": {
        "colab": {
          "base_uri": "https://localhost:8080/"
        },
        "id": "u7C23Zeb-KYd",
        "outputId": "dada5430-cb82-4bbf-a759-72456f7ac29d"
      },
      "execution_count": 6,
      "outputs": [
        {
          "output_type": "stream",
          "name": "stdout",
          "text": [
            "1\n"
          ]
        }
      ]
    },
    {
      "cell_type": "code",
      "source": [],
      "metadata": {
        "id": "_M2aO84A_M9z"
      },
      "execution_count": null,
      "outputs": []
    }
  ]
}