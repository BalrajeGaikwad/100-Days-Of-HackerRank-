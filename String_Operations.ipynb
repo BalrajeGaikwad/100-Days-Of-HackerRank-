{
  "nbformat": 4,
  "nbformat_minor": 0,
  "metadata": {
    "colab": {
      "provenance": []
    },
    "kernelspec": {
      "name": "python3",
      "display_name": "Python 3"
    },
    "language_info": {
      "name": "python"
    }
  },
  "cells": [
    {
      "cell_type": "code",
      "execution_count": 9,
      "metadata": {
        "colab": {
          "base_uri": "https://localhost:8080/",
          "height": 36
        },
        "id": "_Dc54MrSeU2G",
        "outputId": "5613cdce-a23e-4ef6-facf-71cb083ad232"
      },
      "outputs": [
        {
          "output_type": "execute_result",
          "data": {
            "text/plain": [
              "'you are how hey'"
            ],
            "application/vnd.google.colaboratory.intrinsic+json": {
              "type": "string"
            }
          },
          "metadata": {},
          "execution_count": 9
        }
      ],
      "source": [
        "s=\"hey how are you\"\n",
        "k=' '.join(s.split()[::-1])\n",
        "k"
      ]
    },
    {
      "cell_type": "code",
      "source": [
        "# Using a Loop"
      ],
      "metadata": {
        "id": "fmzVnDqzeubN"
      },
      "execution_count": 10,
      "outputs": []
    },
    {
      "cell_type": "code",
      "source": [
        "m = \"Geeks for Geeks\"\n",
        "words=m.split()\n",
        "\n",
        "reversed_words=\"\"\n",
        "\n",
        "for word in reversed(words):\n",
        "  reversed_words+=word + \" \"\n",
        "\n",
        "reversed_words=reversed_words.strip()\n",
        "\n",
        "print(reversed_words)"
      ],
      "metadata": {
        "colab": {
          "base_uri": "https://localhost:8080/"
        },
        "id": "_5b7p3Ojevjq",
        "outputId": "59815620-d61d-4ff4-f1ec-c9bcb073c8f7"
      },
      "execution_count": 16,
      "outputs": [
        {
          "output_type": "stream",
          "name": "stdout",
          "text": [
            "Geeks for Geeks\n"
          ]
        }
      ]
    },
    {
      "cell_type": "code",
      "source": [
        "s = \"Geeks for Geeks\"\n",
        "\n",
        "# Split the string into words\n",
        "words = s.split()\n",
        "\n",
        "\n",
        "# Initialize an empty string to store the result\n",
        "reversed_words = \"\"\n",
        "\n",
        "# Iterate through the words in reverse order\n",
        "for word in reversed(words):\n",
        "    reversed_words += word + \" \"\n",
        "\n",
        "# Strip the trailing space\n",
        "reversed_words = reversed_words.strip()\n",
        "\n",
        "print(reversed_words)\n"
      ],
      "metadata": {
        "colab": {
          "base_uri": "https://localhost:8080/"
        },
        "id": "klHy8Lj8f2wA",
        "outputId": "24cc3a0f-946a-435e-bcf9-7e8cfd02b8f4"
      },
      "execution_count": 17,
      "outputs": [
        {
          "output_type": "stream",
          "name": "stdout",
          "text": [
            "Geeks for Geeks\n"
          ]
        }
      ]
    },
    {
      "cell_type": "code",
      "source": [
        "# Using Stack\n"
      ],
      "metadata": {
        "id": "GhIVxk7SgDOC"
      },
      "execution_count": 18,
      "outputs": []
    },
    {
      "cell_type": "code",
      "source": [
        "# Input string\n",
        "s = \"Geeks for Geeks\"\n",
        "\n",
        "# Split the string into words\n",
        "words = s.split()\n",
        "\n",
        "# Reverse the words using a stack\n",
        "stack = []\n",
        "for word in words:\n",
        "    stack.append(word)\n",
        "\n",
        "reversed_words = \"\"\n",
        "while stack:\n",
        "    reversed_words += stack.pop() + \" \"\n",
        "\n",
        "# Strip the trailing space\n",
        "reversed_words = reversed_words.strip()\n",
        "\n",
        "# Output the result\n",
        "print(reversed_words)\n"
      ],
      "metadata": {
        "colab": {
          "base_uri": "https://localhost:8080/"
        },
        "id": "ZzHjWa0IgSJI",
        "outputId": "1f92d1d0-4b02-4e19-9152-d640fb2734d2"
      },
      "execution_count": 19,
      "outputs": [
        {
          "output_type": "stream",
          "name": "stdout",
          "text": [
            "Geeks for Geeks\n"
          ]
        }
      ]
    },
    {
      "cell_type": "code",
      "source": [],
      "metadata": {
        "id": "hxy0OWAigodT"
      },
      "execution_count": null,
      "outputs": []
    }
  ]
}