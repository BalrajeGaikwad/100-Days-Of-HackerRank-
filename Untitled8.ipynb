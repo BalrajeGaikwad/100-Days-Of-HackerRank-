{
  "nbformat": 4,
  "nbformat_minor": 0,
  "metadata": {
    "colab": {
      "provenance": []
    },
    "kernelspec": {
      "name": "python3",
      "display_name": "Python 3"
    },
    "language_info": {
      "name": "python"
    }
  },
  "cells": [
    {
      "cell_type": "code",
      "execution_count": 1,
      "metadata": {
        "id": "qf1lfUPjmtHq"
      },
      "outputs": [],
      "source": [
        "# Interchange first and elements using Temporary Values"
      ]
    },
    {
      "cell_type": "markdown",
      "source": [
        "**Find the length of the list and simply swap the first element with (n-1)th element.**"
      ],
      "metadata": {
        "id": "ALRObfk8m6aD"
      }
    },
    {
      "cell_type": "code",
      "source": [
        "def swaplist(newlist):\n",
        "  size=len(newlist)\n",
        "\n",
        "  temp=newlist[0]\n",
        "  newlist[0]=newlist[size-1]\n",
        "  newlist[size-1]=temp\n",
        "\n",
        "  return newlist\n",
        "\n",
        "newlist=[12,23,44,54,65,76]\n",
        "print(swaplist(newlist))"
      ],
      "metadata": {
        "colab": {
          "base_uri": "https://localhost:8080/"
        },
        "id": "pJPEjHtMm7l7",
        "outputId": "d9749a44-d5ee-4061-b1a8-9d42c44e6d01"
      },
      "execution_count": 3,
      "outputs": [
        {
          "output_type": "stream",
          "name": "stdout",
          "text": [
            "[76, 23, 44, 54, 65, 12]\n"
          ]
        }
      ]
    },
    {
      "cell_type": "code",
      "source": [
        "def swaplist(list):\n",
        "  get=list[-1], list[0]\n",
        "  list[0], list[-1]=get\n",
        "\n",
        "  return list\n",
        "newlist=[12,34,56,76,76]\n",
        "print(swaplist(newlist))"
      ],
      "metadata": {
        "colab": {
          "base_uri": "https://localhost:8080/"
        },
        "id": "qtfrV-9xnkxM",
        "outputId": "9091edb0-4442-4c56-ba98-d991591935ab"
      },
      "execution_count": 4,
      "outputs": [
        {
          "output_type": "stream",
          "name": "stdout",
          "text": [
            "[76, 34, 56, 76, 12]\n"
          ]
        }
      ]
    },
    {
      "cell_type": "code",
      "source": [
        "#swap first and last value in a list in python using * operands\n",
        "\n",
        "list=[1,2,3,4]\n",
        "a, *b,c=list\n",
        "\n",
        "print(a)\n",
        "print(b)\n",
        "print(c)"
      ],
      "metadata": {
        "colab": {
          "base_uri": "https://localhost:8080/"
        },
        "id": "orKKhl95oKsg",
        "outputId": "10b92d0a-ea70-456f-c186-1ffa8617e7fa"
      },
      "execution_count": 6,
      "outputs": [
        {
          "output_type": "stream",
          "name": "stdout",
          "text": [
            "1\n",
            "[2, 3]\n",
            "4\n"
          ]
        }
      ]
    },
    {
      "cell_type": "code",
      "source": [
        "# reverse the list\n",
        "\n",
        "a=[1,2,3,4,5]\n",
        "a.reverse()\n",
        "print(a)"
      ],
      "metadata": {
        "colab": {
          "base_uri": "https://localhost:8080/"
        },
        "id": "E4BeiEGJo8MI",
        "outputId": "8e41f7af-33cb-4d85-d236-afa1ad0d8698"
      },
      "execution_count": 7,
      "outputs": [
        {
          "output_type": "stream",
          "name": "stdout",
          "text": [
            "[5, 4, 3, 2, 1]\n"
          ]
        }
      ]
    },
    {
      "cell_type": "code",
      "source": [
        "rev=a[::-1]\n",
        "rev"
      ],
      "metadata": {
        "colab": {
          "base_uri": "https://localhost:8080/"
        },
        "id": "bMIvD6p4qUFO",
        "outputId": "4bf3f744-1d23-4000-fb1b-18de0fcd1e02"
      },
      "execution_count": 8,
      "outputs": [
        {
          "output_type": "execute_result",
          "data": {
            "text/plain": [
              "[1, 2, 3, 4, 5]"
            ]
          },
          "metadata": {},
          "execution_count": 8
        }
      ]
    },
    {
      "cell_type": "code",
      "source": [
        "b=[2,3,4,5,6]\n",
        "rev=[]\n",
        "\n",
        "for val in b:\n",
        "  rev.insert(0, val)\n",
        "print(rev)"
      ],
      "metadata": {
        "colab": {
          "base_uri": "https://localhost:8080/"
        },
        "id": "AMJjj33sq7sV",
        "outputId": "c43d30c8-2c7e-4c5a-e96e-ef9fc397e8ce"
      },
      "execution_count": 9,
      "outputs": [
        {
          "output_type": "stream",
          "name": "stdout",
          "text": [
            "[6, 5, 4, 3, 2]\n"
          ]
        }
      ]
    },
    {
      "cell_type": "code",
      "source": [
        "# Using a loop\n",
        "\n",
        "a=[1,2,3,4,5,6,7,8,9,10]\n",
        "\n",
        "start, end=2,6\n",
        "\n",
        "while start < end:\n",
        "  a[start], a[end]=a[end], a[start]\n",
        "\n",
        "  start+=1\n",
        "  end-=1\n",
        "\n",
        "print(a)"
      ],
      "metadata": {
        "colab": {
          "base_uri": "https://localhost:8080/"
        },
        "id": "hhELvC3ZrOOC",
        "outputId": "56f92ea7-8f73-4776-d869-02154b486cb8"
      },
      "execution_count": 10,
      "outputs": [
        {
          "output_type": "stream",
          "name": "stdout",
          "text": [
            "[1, 2, 7, 6, 5, 4, 3, 8, 9, 10]\n"
          ]
        }
      ]
    },
    {
      "cell_type": "code",
      "source": [
        "a=[1,2,3,4,5]\n",
        "\n",
        "rev=[a[i] for i in range(len(a) -1, -1, -1)]\n",
        "print(rev)"
      ],
      "metadata": {
        "colab": {
          "base_uri": "https://localhost:8080/"
        },
        "id": "mySv4A85tPmf",
        "outputId": "34c12e9b-99bf-47ad-f4d3-7b1a94f25917"
      },
      "execution_count": 11,
      "outputs": [
        {
          "output_type": "stream",
          "name": "stdout",
          "text": [
            "[5, 4, 3, 2, 1]\n"
          ]
        }
      ]
    },
    {
      "cell_type": "code",
      "source": [],
      "metadata": {
        "id": "CGZUvBwrttie"
      },
      "execution_count": null,
      "outputs": []
    },
    {
      "cell_type": "markdown",
      "source": [
        "**SUM OF NUMBERS IN LIST IN PYTHON**"
      ],
      "metadata": {
        "id": "nDxWUdkCudBE"
      }
    },
    {
      "cell_type": "code",
      "source": [
        "def dsum(val):\n",
        "  total=0\n",
        "\n",
        "  while val>0:\n",
        "    total+=val%10\n",
        "\n",
        "    val//=10\n",
        "\n",
        "  return total\n",
        "\n",
        "a=[123,456,789]\n",
        "\n",
        "res=[dsum(val) for val in a]\n",
        "print(res)"
      ],
      "metadata": {
        "colab": {
          "base_uri": "https://localhost:8080/"
        },
        "id": "-eNuXy8AuivS",
        "outputId": "1ce57c9b-a806-4709-fe43-298d926d3d61"
      },
      "execution_count": 12,
      "outputs": [
        {
          "output_type": "stream",
          "name": "stdout",
          "text": [
            "[6, 15, 24]\n"
          ]
        }
      ]
    },
    {
      "cell_type": "code",
      "source": [],
      "metadata": {
        "id": "d6s9NAzfvls2"
      },
      "execution_count": null,
      "outputs": []
    }
  ]
}